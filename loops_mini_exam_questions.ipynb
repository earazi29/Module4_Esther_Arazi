{
  "cells": [
    {
      "cell_type": "markdown",
      "id": "6e143f87",
      "metadata": {
        "id": "6e143f87"
      },
      "source": [
        "# Intro Loops Mini‑Exam — All Coding (5 Questions)\n",
        "**Topics:** `for`, `while`, `range`, `break`, `continue`, basic `if/else`, optional `try/except`\n",
        "\n",
        "### Rules\n",
        "- Use `range` where helpful.\n",
        "- **Do not use** `enumerate`, list comprehensions, or **nested loops**.\n",
        "- You may use simple `try/except` for input validation where the prompt asks for it.\n",
        "- Keep code clear and commented (brief intent comments are enough).\n",
        "\n",
        "### What to Submit\n",
        "- Complete the five problems below in the provided code cells.\n",
        "- Do **not** modify the problem statements.\n",
        "- Run each cell to ensure it executes (no crashes on valid inputs).\n",
        "\n",
        "### Academic Honesty\n",
        "- Write your own code. Keep solutions simple and readable.\n"
      ]
    },
    {
      "cell_type": "markdown",
      "id": "b26ce537",
      "metadata": {
        "id": "b26ce537"
      },
      "source": [
        "## 1) Count Up (for + range)\n",
        "Ask the user for a **positive integer `n`**. Print the numbers **1..n** on **one line** separated by spaces.\n",
        "- Use a `for` loop with `range`.\n",
        "- If the input isn’t a positive integer, print a friendly error and stop.\n"
      ]
    },
    {
      "cell_type": "code",
      "execution_count": 54,
      "id": "238370a9",
      "metadata": {
        "id": "238370a9",
        "problem": 1,
        "colab": {
          "base_uri": "https://localhost:8080/"
        },
        "outputId": "3c899b90-9a2f-4ed8-b4ea-2becfb5d0680"
      },
      "outputs": [
        {
          "name": "stdout",
          "output_type": "stream",
          "text": [
            "Insert positive numbers in the list and type done when complete.jvfghjgj\n"
          ]
        }
      ],
      "source": [
        "def count_up():\n",
        "  number_list = []\n",
        "\n",
        "  user_input = input('Insert positive numbers in the list and type done when complete.')\n",
        "\n",
        "  for user_input in number_list:\n",
        "    if user_input == n :\n",
        "      continue\n",
        "\n",
        "    elif user_input == 'done':\n",
        "      print(number_list)\n",
        "      break\n",
        "\n",
        "    elif user_input < 0:\n",
        "      print('Invalid response. Please insert a positive number.')\n",
        "\n",
        "    else:\n",
        "      number_list.append(user_input)\n",
        "\n",
        "count_up()\n"
      ]
    },
    {
      "cell_type": "markdown",
      "id": "2afee823",
      "metadata": {
        "id": "2afee823"
      },
      "source": [
        "## 2) Sum of Squares (for)\n",
        "Ask for a **positive integer `n`**. Compute and print **`1^2 + 2^2 + … + n^2`**.\n",
        "- Use a `for` loop.\n",
        "- Validate input (print an error and stop if invalid).\n"
      ]
    },
    {
      "cell_type": "code",
      "execution_count": 36,
      "id": "0f0ed988",
      "metadata": {
        "id": "0f0ed988",
        "problem": 2,
        "colab": {
          "base_uri": "https://localhost:8080/"
        },
        "outputId": "bd12a490-0a17-46f9-8d73-7981a909b5b2"
      },
      "outputs": [
        {
          "output_type": "stream",
          "name": "stdout",
          "text": [
            "Insert a positive number5\n",
            "1\n",
            "4\n",
            "9\n",
            "16\n",
            "25\n",
            "36\n",
            "49\n",
            "64\n",
            "81\n"
          ]
        }
      ],
      "source": [
        "def sum_of_squares():\n",
        "  user_input = input('Insert a positive number')\n",
        "\n",
        "  for user_input in range(1,10):\n",
        "    print(user_input**2)\n",
        "\n",
        "sum_of_squares()\n"
      ]
    },
    {
      "cell_type": "markdown",
      "id": "13dd0fd1",
      "metadata": {
        "id": "13dd0fd1"
      },
      "source": [
        "## 3) Min/Max with “done” (while + try/except)\n",
        "Repeatedly read integers until the user types **`done`**. Ignore invalid entries with a warning.\n",
        "At the end:\n",
        "- If at least one valid number was entered, print `min = ___, max = ___`.\n",
        "- Otherwise print `No numbers entered.`\n",
        "- Use a `while True:` loop and `break` on `'done'`.\n"
      ]
    },
    {
      "cell_type": "code",
      "execution_count": 53,
      "id": "e8afc3b3",
      "metadata": {
        "id": "e8afc3b3",
        "problem": 3,
        "colab": {
          "base_uri": "https://localhost:8080/"
        },
        "outputId": "39e262b5-11c2-4fa8-a581-d6ec0fee08bd"
      },
      "outputs": [
        {
          "name": "stdout",
          "output_type": "stream",
          "text": [
            "Insert any interger number. Type \"done\" to stop.kvjv\n",
            "Insert any interger number. Type \"done\" to stop.\n",
            "Insert any interger number. Type \"done\" to stop.kjgj\n",
            "Insert any interger number. Type \"done\" to stop.hh']\n",
            "Insert any interger number. Type \"done\" to stop.gbhpk\n",
            "Insert any interger number. Type \"done\" to stop.]\n",
            "Insert any interger number. Type \"done\" to stop.hoh[\n",
            "Insert any interger number. Type \"done\" to stop.[jh[\n",
            "Insert any interger number. Type \"done\" to stop.done\n"
          ]
        }
      ],
      "source": [
        "def min_max():\n",
        "\n",
        "  number_list = []\n",
        "\n",
        "  while True:\n",
        "    user_input = input('Insert any interger number. Type \"done\" to stop.')\n",
        "\n",
        "    if user_input == int:\n",
        "      print('Insert another interger')\n",
        "      break\n",
        "\n",
        "    if user_input == 'done':\n",
        "      break\n",
        "\n",
        "      append(user_input)\n",
        "\n",
        "\n",
        "min_max()\n"
      ]
    },
    {
      "cell_type": "markdown",
      "id": "950eed12",
      "metadata": {
        "id": "950eed12"
      },
      "source": [
        "## 4) Skip & Stop (for + continue/break)\n",
        "Ask for a **positive integer `n`** (upper bound).\n",
        "- Loop from **1..n**.\n",
        "- **Skip** (do not print) numbers that are multiples of **4** using `continue`.\n",
        "- If you reach **42**, **print 42 and then stop** the loop using `break`.\n",
        "- Each printed number goes on its own line.\n",
        "- Validate input; print an error and stop if invalid.\n"
      ]
    },
    {
      "cell_type": "code",
      "execution_count": 61,
      "id": "cfd13035",
      "metadata": {
        "id": "cfd13035",
        "problem": 4
      },
      "outputs": [],
      "source": [
        "def skip_stop():\n",
        " print('This program skips numbers that are mulitiples of 4.')\n",
        "\n",
        " for i in range(1,4,42):\n",
        "  print(i*4)\n",
        "\n",
        "  skip_stop()\n",
        "\n",
        "\n"
      ]
    },
    {
      "cell_type": "markdown",
      "id": "34d640d5",
      "metadata": {
        "id": "34d640d5"
      },
      "source": [
        "## 5) Even Sum with Entry Limit (while + try/except)\n",
        "Ask for a **target count `k`** (how many entries to read). Then read up to `k` user inputs (one per loop).\n",
        "- Convert each to `int` with `try/except`.\n",
        "- Keep a running **sum of even numbers only** (ignore odds and invalid entries).\n",
        "- After `k` inputs, print `even_sum = ___, valid_evens = ___`.\n",
        "- If `k` isn’t a positive integer, print an error and stop.\n"
      ]
    },
    {
      "cell_type": "code",
      "execution_count": null,
      "id": "a7717a90",
      "metadata": {
        "id": "a7717a90",
        "problem": 5
      },
      "outputs": [],
      "source": [
        "def even_sum():\n",
        "  user_input = print('Insert a positive number')\n",
        "\n",
        ""
      ]
    },
    {
      "cell_type": "markdown",
      "source": [
        "## 6)  How long did you work on this quiz ? Was this quiz : hard, easy, just right ?"
      ],
      "metadata": {
        "id": "m9THXy-oU-Ud"
      },
      "id": "m9THXy-oU-Ud"
    },
    {
      "cell_type": "markdown",
      "source": [
        "Answer here : 1 hour, hard"
      ],
      "metadata": {
        "id": "IzQbO93tVKDv"
      },
      "id": "IzQbO93tVKDv"
    }
  ],
  "metadata": {
    "kernelspec": {
      "display_name": "Python 3",
      "language": "python",
      "name": "python3"
    },
    "language_info": {
      "name": "python"
    },
    "colab": {
      "provenance": []
    }
  },
  "nbformat": 4,
  "nbformat_minor": 5
}